{
 "cells": [
  {
   "cell_type": "markdown",
   "id": "58d75e56",
   "metadata": {},
   "source": [
    "------------\n",
    "Notebook 4.1\n",
    "-------------"
   ]
  },
  {
   "cell_type": "code",
   "execution_count": 37,
   "id": "7bc2e97b",
   "metadata": {},
   "outputs": [
    {
     "name": "stdout",
     "output_type": "stream",
     "text": [
      "Enter the secret number: 5\n",
      "Enter your guess: 5\n",
      "Just right.\n"
     ]
    }
   ],
   "source": [
    "secret = input(\"Enter the secret number: \")\n",
    "guess = input(\"Enter your guess: \")\n",
    "\n",
    "if guess < secret:\n",
    "    print(\"Too low.\")\n",
    "elif guess > secret:\n",
    "    print(\"Too high.\")\n",
    "else:\n",
    "    print(\"Just right.\")"
   ]
  },
  {
   "cell_type": "markdown",
   "id": "e2fb60ab",
   "metadata": {},
   "source": [
    "------------\n",
    "Notebook 4.2\n",
    "-------------"
   ]
  },
  {
   "cell_type": "code",
   "execution_count": 38,
   "id": "870bfddc",
   "metadata": {},
   "outputs": [
    {
     "name": "stdout",
     "output_type": "stream",
     "text": [
      "Watermelon.\n"
     ]
    }
   ],
   "source": [
    "small = False\n",
    "green = True\n",
    "\n",
    "if small and green:\n",
    "    print(\"Pea.\")\n",
    "elif small:\n",
    "    print(\"Cherry.\")\n",
    "elif green:\n",
    "    print(\"Watermelon.\")\n",
    "else:\n",
    "    print(\"Pumpkin.\")"
   ]
  },
  {
   "cell_type": "markdown",
   "id": "c71a5747",
   "metadata": {},
   "source": [
    "-----------------\n",
    "Notebook 6.2\n",
    "------------------"
   ]
  },
  {
   "cell_type": "code",
   "execution_count": 39,
   "id": "cfe5b90c",
   "metadata": {},
   "outputs": [
    {
     "name": "stdout",
     "output_type": "stream",
     "text": [
      "Too low.\n",
      "Too low.\n",
      "Too low.\n",
      "Too low.\n",
      "Too low.\n",
      "Too low.\n",
      "Found it!\n"
     ]
    }
   ],
   "source": [
    "guess_me = 7\n",
    "number = 1\n",
    "\n",
    "while number <= guess_me:\n",
    "    if number < guess_me:\n",
    "        print(\"Too low.\")\n",
    "    elif number == guess_me:\n",
    "        print(\"Found it!\")\n",
    "        break\n",
    "    else:\n",
    "        print(\"Oops.\")\n",
    "        break\n",
    "    number = number + 1"
   ]
  },
  {
   "cell_type": "markdown",
   "id": "c946a091",
   "metadata": {},
   "source": [
    "------------\n",
    "Notebook 6.3\n",
    "-------------"
   ]
  },
  {
   "cell_type": "code",
   "execution_count": 40,
   "id": "96863077",
   "metadata": {},
   "outputs": [
    {
     "name": "stdout",
     "output_type": "stream",
     "text": [
      "Too low.\n",
      "Too low.\n",
      "Too low.\n",
      "Too low.\n",
      "Too low.\n",
      "Found it.\n"
     ]
    }
   ],
   "source": [
    "guess_me = 5\n",
    "\n",
    "for number in range(10):\n",
    "    if number < guess_me:\n",
    "        print(\"Too low.\")\n",
    "    elif number == guess_me:\n",
    "        print(\"Found it.\")\n",
    "        break\n",
    "    else:\n",
    "        print(\"Oops.\")\n",
    "        break"
   ]
  }
 ],
 "metadata": {
  "kernelspec": {
   "display_name": "Python 3.10.6 64-bit",
   "language": "python",
   "name": "python3"
  },
  "language_info": {
   "codemirror_mode": {
    "name": "ipython",
    "version": 3
   },
   "file_extension": ".py",
   "mimetype": "text/x-python",
   "name": "python",
   "nbconvert_exporter": "python",
   "pygments_lexer": "ipython3",
   "version": "3.10.6"
  },
  "vscode": {
   "interpreter": {
    "hash": "b84be0746b7526e7e8427ff311063fdb766fd58b72b5ab31df2faffc6f671cc0"
   }
  }
 },
 "nbformat": 4,
 "nbformat_minor": 5
}
